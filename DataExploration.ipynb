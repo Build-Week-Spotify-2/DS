{
 "cells": [
  {
   "cell_type": "code",
   "execution_count": 1,
   "metadata": {},
   "outputs": [
    {
     "name": "stdout",
     "output_type": "stream",
     "text": [
      "Collecting requests\n",
      "  Downloading requests-2.24.0-py2.py3-none-any.whl (61 kB)\n",
      "Collecting chardet<4,>=3.0.2\n",
      "  Downloading chardet-3.0.4-py2.py3-none-any.whl (133 kB)\n",
      "Collecting urllib3!=1.25.0,!=1.25.1,<1.26,>=1.21.1\n",
      "  Downloading urllib3-1.25.9-py2.py3-none-any.whl (126 kB)\n",
      "Collecting certifi>=2017.4.17\n",
      "  Downloading certifi-2020.6.20-py2.py3-none-any.whl (156 kB)\n",
      "Collecting idna<3,>=2.5\n",
      "  Downloading idna-2.9-py2.py3-none-any.whl (58 kB)\n",
      "Installing collected packages: chardet, urllib3, certifi, idna, requests\n",
      "Successfully installed certifi-2020.6.20 chardet-3.0.4 idna-2.9 requests-2.24.0 urllib3-1.25.9\n"
     ]
    }
   ],
   "source": [
    "!pip install requests"
   ]
  },
  {
   "cell_type": "code",
   "execution_count": 10,
   "metadata": {},
   "outputs": [],
   "source": [
    "import requests"
   ]
  },
  {
   "cell_type": "code",
   "execution_count": 2,
   "metadata": {},
   "outputs": [],
   "source": [
    "import base64"
   ]
  },
  {
   "cell_type": "code",
   "execution_count": 18,
   "metadata": {},
   "outputs": [],
   "source": [
    "import datetime"
   ]
  },
  {
   "cell_type": "code",
   "execution_count": 4,
   "metadata": {},
   "outputs": [],
   "source": [
    "client_id = 'ed343e6c5eeb411a9b8e97398d6fa29b'\n",
    "client_secret = 'd0480725f56041359cd745fd524ea790'"
   ]
  },
  {
   "cell_type": "code",
   "execution_count": 75,
   "metadata": {},
   "outputs": [],
   "source": [
    "class SpotifyAPI(object):\n",
    "    access_token = None\n",
    "    access_token_expires = datetime.datetime.now()\n",
    "    access_token_did_expire = True\n",
    "    client_id = None\n",
    "    client_secret = None\n",
    "    token_url = 'https://accounts.spotify.com/api/token'\n",
    "    \n",
    "    \n",
    "    def __init__(self,client_id, client_secret, *args, **kwargs):\n",
    "        super().__init__(*args,**kwargs)\n",
    "        self.client_id = client_id\n",
    "        self.client_secret = client_secret\n",
    "    \n",
    "    def get_client_credentials(self):\n",
    "        self.client_id = client_id\n",
    "        self.client_secret = client_secret\n",
    "        if client_secret == None or client_id == None:\n",
    "            raise Exception('You must set client_id and client_secrets')\n",
    "        client_creds = f'{client_id}:{client_secret}'\n",
    "        client_creds_b64 = base64.b64encode(client_creds.encode())\n",
    "        return client_creds_b64.decode()\n",
    "    \n",
    "    def get_token_header(self):\n",
    "        client_creds_b64 = self.get_client_credentials()\n",
    "        return {\n",
    "            'Authorization': f'Basic {client_creds_b64}'\n",
    "        }\n",
    "    \n",
    "    def get_token_data(self):\n",
    "        return {\n",
    "            'grant_type':'client_credentials'\n",
    "        }\n",
    "    \n",
    "    def perform_auth(self):\n",
    "        token_url = self.token_url\n",
    "        token_data = self.get_token_data()\n",
    "        token_headers = self.get_token_header()\n",
    "        r = requests.post(token_url,data=token_data,headers=token_headers)\n",
    "        \n",
    "        if r.status_code not in range(200,299):\n",
    "            raise Exception('Could not authenticate client.')\n",
    "        data = r.json()\n",
    "        now = datetime.datetime.now()\n",
    "        expires_in = data['expires_in']\n",
    "        expires = now + datetime.timedelta(seconds=expires_in)\n",
    "        self.access_token = data['access_token']\n",
    "        self.access_token_expires = expires\n",
    "        self.access_token_did_expire = expires < now\n",
    "        return True\n",
    "    \n",
    "    def get_access_token(self):\n",
    "        token = self.access_token\n",
    "        expires = self.access_token_expires\n",
    "        now = datetime.datetime.now()\n",
    "        if expires < now:\n",
    "            self.perform_auth()\n",
    "            return self.get_access_token()\n",
    "        elif token == None:\n",
    "            self.perform_auth()\n",
    "            return self.get_access_token()\n",
    "        return token\n",
    "    \n",
    "    def get_album(self, _id):\n",
    "        return self.get_resource(_id, resource_type='albums')\n",
    "    \n",
    "    def get_artist(self, _id):\n",
    "        return self.get_resource(_id, resource_type='artists')\n",
    "    \n",
    "    def get_resource_header(self):\n",
    "        access_token = self.get_access_token()\n",
    "        headers = {\n",
    "            'Authorization': f'Bearer {access_token}'\n",
    "        }\n",
    "        return headers\n",
    "    \n",
    "    def get_resource(self, lookup_id, resource_type='albums', version='v1'):\n",
    "        endpoint = f'https://api.spotify.com/{version}/{resource_type}/{lookup_id}'\n",
    "        headers = self.get_resource_header()\n",
    "        r = requests.get(endpoint, headers=headers)\n",
    "        if r.status_code not in range(200,299):\n",
    "            return {}\n",
    "        return r.json()\n",
    "    \n",
    "    def search(self, query, search_type='artist' ):\n",
    "        access_token = self.get_access_token()\n",
    "        headers = self.get_resource_header()\n",
    "        endpoint = 'https://api.spotify.com/v1/search'\n",
    "        data = urlencode({'q': query, 'type': search_type.lower()})\n",
    "        lookup_url = f'{endpoint}?{data}'\n",
    "        r = requests.get(lookup_url, headers=headers)\n",
    "        if r.status_code not in range(200, 299):\n",
    "            return {}\n",
    "        return r.json()"
   ]
  },
  {
   "cell_type": "code",
   "execution_count": 5,
   "metadata": {},
   "outputs": [
    {
     "data": {
      "text/plain": [
       "str"
      ]
     },
     "execution_count": 5,
     "metadata": {},
     "output_type": "execute_result"
    }
   ],
   "source": [
    "client_creds = f'{client_id}:{client_secret}'\n",
    "type(client_creds)"
   ]
  },
  {
   "cell_type": "code",
   "execution_count": 9,
   "metadata": {},
   "outputs": [
    {
     "data": {
      "text/plain": [
       "bytes"
      ]
     },
     "execution_count": 9,
     "metadata": {},
     "output_type": "execute_result"
    }
   ],
   "source": [
    "client_creds_b64 = base64.b64encode(client_creds.encode())\n",
    "type(client_creds_b64)"
   ]
  },
  {
   "cell_type": "code",
   "execution_count": 14,
   "metadata": {},
   "outputs": [],
   "source": [
    "token_url = 'https://accounts.spotify.com/api/token'\n",
    "method = 'POST'\n",
    "token_data = {\n",
    "    'grant_type':'client_credentials'\n",
    "}\n",
    "token_headers = {\n",
    "    'Authorization': f'Basic {client_creds_b64.decode()}'\n",
    "}"
   ]
  },
  {
   "cell_type": "code",
   "execution_count": 22,
   "metadata": {},
   "outputs": [
    {
     "name": "stdout",
     "output_type": "stream",
     "text": [
      "{'access_token': 'BQDBkmNjKbjrz_DjNZg1Rcor39oEG6ddKkdaOWfYG4uZD0k1DqYYVHnxW1n7ggnSpmPNdT9imv_w0mgB8A8', 'token_type': 'Bearer', 'expires_in': 3600, 'scope': ''}\n"
     ]
    }
   ],
   "source": [
    "r = requests.post(token_url,data=token_data,headers=token_headers)\n",
    "print(r.json())"
   ]
  },
  {
   "cell_type": "code",
   "execution_count": 20,
   "metadata": {},
   "outputs": [],
   "source": [
    "valid_request = r.status_code in range(200,299)\n",
    "if valid_request:\n",
    "    token_response_data = r.json()\n",
    "    now = datetime.datetime.now()\n",
    "    access_token = token_response_data['access_token']\n",
    "    expires_in = token_response_data['expires_in']\n",
    "    expires = now + datetime.timedelta(seconds=expires_in)\n",
    "    did_expire = expires < now"
   ]
  },
  {
   "cell_type": "markdown",
   "metadata": {},
   "source": [
    "## Let's explore, now that we have a Spotify class"
   ]
  },
  {
   "cell_type": "code",
   "execution_count": 30,
   "metadata": {},
   "outputs": [],
   "source": [
    "from urllib.parse import urlencode"
   ]
  },
  {
   "cell_type": "code",
   "execution_count": 76,
   "metadata": {},
   "outputs": [],
   "source": [
    "spotify = SpotifyAPI(client_id, client_secret)"
   ]
  },
  {
   "cell_type": "code",
   "execution_count": 63,
   "metadata": {},
   "outputs": [
    {
     "data": {
      "text/plain": [
       "True"
      ]
     },
     "execution_count": 63,
     "metadata": {},
     "output_type": "execute_result"
    }
   ],
   "source": [
    "spotify.perform_auth()"
   ]
  },
  {
   "cell_type": "code",
   "execution_count": 26,
   "metadata": {
    "scrolled": true
   },
   "outputs": [
    {
     "data": {
      "text/plain": [
       "'BQD3Uv2vJg893S8oaqkcQNMkBCGzQKQ36Y1CLZiXuny_0naprYkdInv5Yo1agLUM0KZb97WrHRt5Pp82ry4'"
      ]
     },
     "execution_count": 26,
     "metadata": {},
     "output_type": "execute_result"
    }
   ],
   "source": [
    "spotify.access_token"
   ]
  },
  {
   "cell_type": "code",
   "execution_count": 36,
   "metadata": {},
   "outputs": [
    {
     "name": "stdout",
     "output_type": "stream",
     "text": [
      "200\n"
     ]
    }
   ],
   "source": [
    "#spotify search\n",
    "headers = {\n",
    "    'Authorization': f'Bearer {spotify.access_token}'\n",
    "}\n",
    "endpoint = 'https://api.spotify.com/v1/search'\n",
    "data = urlencode({'q': 'Time', 'type': 'track'})\n",
    "lookup_url = f'{endpoint}?{data}'\n",
    "r = requests.get(lookup_url, headers=headers)\n",
    "print(r.status_code)"
   ]
  },
  {
   "cell_type": "code",
   "execution_count": 78,
   "metadata": {},
   "outputs": [],
   "source": [
    "the_villain_full = spotify.search('MF DOOM')"
   ]
  },
  {
   "cell_type": "code",
   "execution_count": 79,
   "metadata": {},
   "outputs": [],
   "source": [
    "the_villain = spotify.get_resource('2pAWfrd7WFF3XhVt9GooDL',resource_type='artists')"
   ]
  },
  {
   "cell_type": "code",
   "execution_count": 80,
   "metadata": {},
   "outputs": [
    {
     "data": {
      "text/plain": [
       "67"
      ]
     },
     "execution_count": 80,
     "metadata": {},
     "output_type": "execute_result"
    }
   ],
   "source": [
    "the_villain['popularity']"
   ]
  }
 ],
 "metadata": {
  "kernelspec": {
   "display_name": "Python 3",
   "language": "python",
   "name": "python3"
  },
  "language_info": {
   "codemirror_mode": {
    "name": "ipython",
    "version": 3
   },
   "file_extension": ".py",
   "mimetype": "text/x-python",
   "name": "python",
   "nbconvert_exporter": "python",
   "pygments_lexer": "ipython3",
   "version": "3.8.3"
  }
 },
 "nbformat": 4,
 "nbformat_minor": 4
}
